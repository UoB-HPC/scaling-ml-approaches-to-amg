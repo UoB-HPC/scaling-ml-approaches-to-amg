{
 "cells": [
  {
   "cell_type": "markdown",
   "metadata": {},
   "source": [
    "# Solve problem 441618 (850083 nodes) with pyAMG to get a baseline timing comparison\n",
    "\n",
    "The corresponding inference against the GNN on the 48-core graphcore machine of this size took 5mins and 391GB RAM\n"
   ]
  },
  {
   "cell_type": "code",
   "execution_count": 2,
   "metadata": {},
   "outputs": [
    {
     "name": "stdout",
     "output_type": "stream",
     "text": [
      "Collecting google-cloud-storage\n",
      "\u001b[?25l  Downloading https://files.pythonhosted.org/packages/12/75/78ed0d1ef691592b94e7a3d9f58153298166486342a97df82d3c5b66cc16/google_cloud_storage-1.38.0-py2.py3-none-any.whl (103kB)\n",
      "\u001b[K     |████████████████████████████████| 112kB 5.2MB/s eta 0:00:01\n",
      "\u001b[?25hRequirement already satisfied: pyamg in /home/fenics/.local/lib/python3.6/site-packages (4.1.0)\n",
      "Collecting google-auth<2.0dev,>=1.11.0\n",
      "\u001b[?25l  Downloading https://files.pythonhosted.org/packages/35/d2/0a79bc7e201c1b38ce46d607eb9398dc362dff1b054c7bba8e4e195c2ed7/google_auth-1.30.1-py2.py3-none-any.whl (146kB)\n",
      "\u001b[K     |████████████████████████████████| 153kB 8.7MB/s eta 0:00:01\n",
      "\u001b[?25hCollecting requests<3.0.0dev,>=2.18.0\n",
      "\u001b[?25l  Downloading https://files.pythonhosted.org/packages/29/c1/24814557f1d22c56d50280771a17307e6bf87b70727d975fd6b2ce6b014a/requests-2.25.1-py2.py3-none-any.whl (61kB)\n",
      "\u001b[K     |████████████████████████████████| 61kB 5.8MB/s eta 0:00:011\n",
      "\u001b[?25hCollecting google-cloud-core<2.0dev,>=1.4.1\n",
      "  Downloading https://files.pythonhosted.org/packages/ad/fc/6e8c449185cb8862af353c1164100ff75e32d55ba1de3baf9eaa01b7d2a9/google_cloud_core-1.6.0-py2.py3-none-any.whl\n",
      "Collecting google-resumable-media<2.0dev,>=1.2.0\n",
      "\u001b[?25l  Downloading https://files.pythonhosted.org/packages/f9/ad/bc80b0b33ccb5e21375ca1440da9dab99596948d5035e2f597fdcffb31f1/google_resumable_media-1.3.0-py2.py3-none-any.whl (75kB)\n",
      "\u001b[K     |████████████████████████████████| 81kB 5.8MB/s eta 0:00:011\n",
      "\u001b[?25hRequirement already satisfied: pytest>=2 in /usr/lib/python3/dist-packages (from pyamg) (3.3.2)\n",
      "Requirement already satisfied: scipy>=0.12.0 in /usr/lib/python3/dist-packages (from pyamg) (0.19.1)\n",
      "Requirement already satisfied: numpy>=1.7.0 in /usr/lib/python3/dist-packages (from pyamg) (1.13.3)\n",
      "Collecting pyasn1-modules>=0.2.1\n",
      "\u001b[?25l  Downloading https://files.pythonhosted.org/packages/95/de/214830a981892a3e286c3794f41ae67a4495df1108c3da8a9f62159b9a9d/pyasn1_modules-0.2.8-py2.py3-none-any.whl (155kB)\n",
      "\u001b[K     |████████████████████████████████| 163kB 7.8MB/s eta 0:00:01\n",
      "\u001b[?25hCollecting cachetools<5.0,>=2.0.0\n",
      "  Downloading https://files.pythonhosted.org/packages/bf/28/c4f5796c67ad06bb91d98d543a5e01805c1ff065e08871f78e52d2a331ad/cachetools-4.2.2-py3-none-any.whl\n",
      "Collecting rsa<5,>=3.1.4; python_version >= \"3.6\"\n",
      "  Downloading https://files.pythonhosted.org/packages/e9/93/0c0f002031f18b53af7a6166103c02b9c0667be528944137cc954ec921b3/rsa-4.7.2-py3-none-any.whl\n",
      "Requirement already satisfied: setuptools>=40.3.0 in /usr/local/lib/python3.6/dist-packages (from google-auth<2.0dev,>=1.11.0->google-cloud-storage) (44.0.0)\n",
      "Requirement already satisfied: six>=1.9.0 in /usr/lib/python3/dist-packages (from google-auth<2.0dev,>=1.11.0->google-cloud-storage) (1.11.0)\n",
      "Collecting certifi>=2017.4.17\n",
      "\u001b[?25l  Downloading https://files.pythonhosted.org/packages/05/1b/0a0dece0e8aa492a6ec9e4ad2fe366b511558cdc73fd3abc82ba7348e875/certifi-2021.5.30-py2.py3-none-any.whl (145kB)\n",
      "\u001b[K     |████████████████████████████████| 153kB 8.3MB/s eta 0:00:01\n",
      "\u001b[?25hCollecting idna<3,>=2.5\n",
      "\u001b[?25l  Downloading https://files.pythonhosted.org/packages/a2/38/928ddce2273eaa564f6f50de919327bf3a00f091b5baba8dfa9460f3a8a8/idna-2.10-py2.py3-none-any.whl (58kB)\n",
      "\u001b[K     |████████████████████████████████| 61kB 6.0MB/s  eta 0:00:01\n",
      "\u001b[?25hCollecting chardet<5,>=3.0.2\n",
      "\u001b[?25l  Downloading https://files.pythonhosted.org/packages/19/c7/fa589626997dd07bd87d9269342ccb74b1720384a4d739a1872bd84fbe68/chardet-4.0.0-py2.py3-none-any.whl (178kB)\n",
      "\u001b[K     |████████████████████████████████| 184kB 8.6MB/s eta 0:00:01\n",
      "\u001b[?25hRequirement already satisfied: urllib3<1.27,>=1.21.1 in /usr/lib/python3/dist-packages (from requests<3.0.0dev,>=2.18.0->google-cloud-storage) (1.22)\n",
      "Collecting google-api-core<2.0.0dev,>=1.21.0\n",
      "\u001b[?25l  Downloading https://files.pythonhosted.org/packages/21/e6/27cfb3b5ebeb96cad94d5cd8fb6d34624906cef4f2a6f4bbf19008b0bf81/google_api_core-1.29.0-py2.py3-none-any.whl (93kB)\n",
      "\u001b[K     |████████████████████████████████| 102kB 6.1MB/s ta 0:00:011\n",
      "\u001b[?25hCollecting google-crc32c<2.0dev,>=1.0; python_version >= \"3.5\"\n",
      "  Downloading https://files.pythonhosted.org/packages/91/44/d5a4513cf63498a07d9b7b3a5bcf3c44bb7fd3ab50b4f9443d2d2b7f2d20/google_crc32c-1.1.2-cp36-cp36m-manylinux2014_x86_64.whl\n",
      "Collecting pyasn1<0.5.0,>=0.4.6\n",
      "\u001b[?25l  Downloading https://files.pythonhosted.org/packages/62/1e/a94a8d635fa3ce4cfc7f506003548d0a2447ae76fd5ca53932970fe3053f/pyasn1-0.4.8-py2.py3-none-any.whl (77kB)\n",
      "\u001b[K     |████████████████████████████████| 81kB 6.0MB/s  eta 0:00:01\n",
      "\u001b[?25hCollecting protobuf>=3.12.0\n",
      "\u001b[?25l  Downloading https://files.pythonhosted.org/packages/b5/37/ac19e9c011498775aeba29d0fe480d4c90597a5af08b4466d5f05fa44d87/protobuf-3.17.2-cp36-cp36m-manylinux_2_5_x86_64.manylinux1_x86_64.whl (1.0MB)\n",
      "\u001b[K     |████████████████████████████████| 1.0MB 9.1MB/s eta 0:00:01\n",
      "\u001b[?25hCollecting pytz\n",
      "\u001b[?25l  Downloading https://files.pythonhosted.org/packages/70/94/784178ca5dd892a98f113cdd923372024dc04b8d40abe77ca76b5fb90ca6/pytz-2021.1-py2.py3-none-any.whl (510kB)\n",
      "\u001b[K     |████████████████████████████████| 512kB 17.9MB/s eta 0:00:01\n",
      "\u001b[?25hCollecting packaging>=14.3\n",
      "\u001b[?25l  Downloading https://files.pythonhosted.org/packages/3e/89/7ea760b4daa42653ece2380531c90f64788d979110a2ab51049d92f408af/packaging-20.9-py2.py3-none-any.whl (40kB)\n",
      "\u001b[K     |████████████████████████████████| 40kB 6.8MB/s  eta 0:00:01\n",
      "\u001b[?25hCollecting googleapis-common-protos<2.0dev,>=1.6.0\n",
      "\u001b[?25l  Downloading https://files.pythonhosted.org/packages/55/08/796a6bc0b550e2b7116041c953d3d5100016abea106131d71e5651826e7b/googleapis_common_protos-1.53.0-py2.py3-none-any.whl (198kB)\n",
      "\u001b[K     |████████████████████████████████| 204kB 31.5MB/s eta 0:00:01\n",
      "\u001b[?25hCollecting cffi>=1.0.0\n",
      "\u001b[?25l  Downloading https://files.pythonhosted.org/packages/2b/cf/9a3b04e57191a970836aeaa8b2075574f02fbdb65d6368457a2f13213e7f/cffi-1.14.5-cp36-cp36m-manylinux1_x86_64.whl (401kB)\n",
      "\u001b[K     |████████████████████████████████| 409kB 24.6MB/s eta 0:00:01\n",
      "\u001b[?25hRequirement already satisfied: pyparsing>=2.0.2 in /usr/local/lib/python3.6/dist-packages (from packaging>=14.3->google-api-core<2.0.0dev,>=1.21.0->google-cloud-core<2.0dev,>=1.4.1->google-cloud-storage) (2.4.6)\n",
      "Collecting pycparser\n",
      "\u001b[?25l  Downloading https://files.pythonhosted.org/packages/ae/e7/d9c3a176ca4b02024debf82342dab36efadfc5776f9c8db077e8f6e71821/pycparser-2.20-py2.py3-none-any.whl (112kB)\n",
      "\u001b[K     |████████████████████████████████| 112kB 34.1MB/s eta 0:00:01\n",
      "\u001b[31mERROR: google-api-core 1.29.0 has requirement six>=1.13.0, but you'll have six 1.11.0 which is incompatible.\u001b[0m\n",
      "\u001b[31mERROR: google-cloud-core 1.6.0 has requirement six>=1.12.0, but you'll have six 1.11.0 which is incompatible.\u001b[0m\n",
      "\u001b[?25hInstalling collected packages: pyasn1, pyasn1-modules, cachetools, rsa, google-auth, certifi, idna, chardet, requests, protobuf, pytz, packaging, googleapis-common-protos, google-api-core, google-cloud-core, pycparser, cffi, google-crc32c, google-resumable-media, google-cloud-storage\n",
      "\u001b[33m  WARNING: The scripts pyrsa-decrypt, pyrsa-encrypt, pyrsa-keygen, pyrsa-priv2pub, pyrsa-sign and pyrsa-verify are installed in '/home/fenics/.local/bin' which is not on PATH.\n",
      "  Consider adding this directory to PATH or, if you prefer to suppress this warning, use --no-warn-script-location.\u001b[0m\n",
      "\u001b[33m  WARNING: The script chardetect is installed in '/home/fenics/.local/bin' which is not on PATH.\n",
      "  Consider adding this directory to PATH or, if you prefer to suppress this warning, use --no-warn-script-location.\u001b[0m\n",
      "Successfully installed cachetools-4.2.2 certifi-2021.5.30 cffi-1.14.5 chardet-4.0.0 google-api-core-1.29.0 google-auth-1.30.1 google-cloud-core-1.6.0 google-cloud-storage-1.38.0 google-crc32c-1.1.2 google-resumable-media-1.3.0 googleapis-common-protos-1.53.0 idna-2.10 packaging-20.9 protobuf-3.17.2 pyasn1-0.4.8 pyasn1-modules-0.2.8 pycparser-2.20 pytz-2021.1 requests-2.25.1 rsa-4.7.2\n",
      "\u001b[33mWARNING: You are using pip version 19.3.1; however, version 21.1.2 is available.\n",
      "You should consider upgrading via the 'pip install --upgrade pip' command.\u001b[0m\n"
     ]
    }
   ],
   "source": [
    "!pip3 install --user google-cloud-storage pyamg"
   ]
  },
  {
   "cell_type": "code",
   "execution_count": 10,
   "metadata": {},
   "outputs": [],
   "source": [
    "from google.cloud import storage\n",
    "import os\n",
    "import concurrent\n",
    "from pathlib import Path\n",
    "import itertools\n",
    "from scipy.sparse import csr_matrix, load_npz\n",
    "from typing import Tuple\n",
    "import numpy as np\n",
    "import time\n",
    "import pyamg\n"
   ]
  },
  {
   "cell_type": "code",
   "execution_count": 11,
   "metadata": {},
   "outputs": [],
   "source": [
    "\n",
    "GOOGLE_APPLICATION_CREDENTIALS=\"/home/fenics/shared/bucket-key.json\"\n",
    "BUCKET_NAME = 'learning-amg-ftetwild-matrices'\n",
    "storage_client = storage.Client.from_service_account_json(GOOGLE_APPLICATION_CREDENTIALS)\n",
    "bucket = storage_client.get_bucket(BUCKET_NAME)\n",
    "blobs = storage_client.list_blobs('learning-amg-ftetwild-matrices')\n",
    "\n",
    "def download_blobs_for_problem_id(problem_id: str) -> bool:\n",
    "    blobs = storage_client.list_blobs(BUCKET_NAME, prefix=problem_id)\n",
    "    a = None\n",
    "    b = None\n",
    "    with concurrent.futures.ThreadPoolExecutor(max_workers=2) as executor:\n",
    "        futures = []\n",
    "        for blob in blobs:\n",
    "            if blob.name.endswith(\"velocity_A.npz\"):\n",
    "                a = blob.name\n",
    "                futures.append(executor.submit(blob.download_to_filename, \"A.npz\"))\n",
    "            if blob.name.endswith(\"velocity_b.npz\"):\n",
    "                b = blob.name\n",
    "                futures.append(executor.submit(blob.download_to_filename, \"b.npz\"))\n",
    "            if a is not None and b is not None:\n",
    "                break\n",
    "        concurrent.futures.wait(futures, return_when=concurrent.futures.ALL_COMPLETED)\n",
    "    return a is not None and b is not None\n",
    "\n",
    "def load_A_and_b(problem_id: str) ->  Tuple[csr_matrix, ]:\n",
    "    download_ok = download_blobs_for_problem_id(problem_id)\n",
    "    if (download_ok):\n",
    "        a = load_npz(\"A.npz\")\n",
    "        b = load_npz(\"b.npz\")\n",
    "    else:\n",
    "        raise Exception(\"Could not download A and b for problem {}\".format(problem_id))\n",
    "    return a, b.todense().flatten().T\n",
    "\n",
    "\n",
    "\n",
    "\n"
   ]
  },
  {
   "cell_type": "code",
   "execution_count": 12,
   "metadata": {},
   "outputs": [],
   "source": [
    "A, b = load_A_and_b('441618')"
   ]
  },
  {
   "cell_type": "code",
   "execution_count": 13,
   "metadata": {},
   "outputs": [
    {
     "ename": "SyntaxError",
     "evalue": "'return' outside function (<ipython-input-13-831346e03375>, line 33)",
     "output_type": "error",
     "traceback": [
      "\u001b[0;36m  File \u001b[0;32m\"<ipython-input-13-831346e03375>\"\u001b[0;36m, line \u001b[0;32m33\u001b[0m\n\u001b[0;31m    return result, len(residuals), residuals, toc-tic, msg\u001b[0m\n\u001b[0m                                                          ^\u001b[0m\n\u001b[0;31mSyntaxError\u001b[0m\u001b[0;31m:\u001b[0m 'return' outside function\n"
     ]
    }
   ],
   "source": [
    "\n",
    "accel = None\n",
    "maxiter = 500\n",
    "tol=1e-12\n",
    "CF='CLJP'\n",
    "coarse_method='pinv2'\n",
    "strength=('classical', {'theta': 0.25})\n",
    "strength='algebraic_distance'\n",
    "presmoother=('gauss_seidel', {'sweep': 'symmetric', 'iterations': 1})\n",
    "postsmoother=('gauss_seidel', {'sweep': 'symmetric', 'iterations': 1})\n",
    "max_levels=12\n",
    "cycle='V'\n",
    "\n",
    "        \n",
    "residuals = []\n",
    "#ml = pyamg.smoothed_aggregation_solver(A, max_coarse=10)\n",
    "#x = ml.solve(b, tol=1e-12, maxiter=40, accel='cg', residuals=residuals)\n",
    "tic = time.time()\n",
    "ml = pyamg.classical.ruge_stuben_solver(A, \n",
    "#                                             max_coarse=max_coarse, \n",
    "                                        strength=strength,\n",
    "                                        presmoother=presmoother,\n",
    "                                        postsmoother=postsmoother,\n",
    "                                        CF=CF,\n",
    "                                        coarse_solver=coarse_method)\n",
    "residuals = []\n",
    "tic = time.time()\n",
    "x = ml.solve(b, tol=tol, maxiter=maxiter, residuals=residuals, accel=accel, cycle=cycle) \n",
    "toc = time.time()\n",
    "msg = repr(ml)\n",
    "residuals = np.array(residuals)\n",
    "result = residuals[-1] < 1e-10\n",
    "residuals = residuals[residuals >= tol]\n"
   ]
  },
  {
   "cell_type": "code",
   "execution_count": null,
   "metadata": {},
   "outputs": [],
   "source": [
    "timing = toc - tic\n",
    "num_iter = len(residuals)\n",
    "x = result\n",
    "\n",
    "messages = []\n",
    "messages.append(\"Problem {}\".format(problem))\n",
    "messages.append(\"Size of A: {}\".format(A.shape[0]))\n",
    "messages.append(\"Took: {:.5f}s\".format(toc-tic))\n",
    "messages.append(\"Num iterations: {}\".format(num_iter))\n",
    "messages.append(\"Could solve?: {}\".format(x))\n",
    "messages.append(\"Residuals: {}\".format(residuals))\n",
    "messages.append(\"Details: {}\".format(descr))\n",
    "       \n",
    "for m in messages:\n",
    "    print(m)"
   ]
  },
  {
   "cell_type": "code",
   "execution_count": null,
   "metadata": {},
   "outputs": [],
   "source": []
  }
 ],
 "metadata": {
  "kernelspec": {
   "display_name": "Python 3",
   "language": "python",
   "name": "python3"
  },
  "language_info": {
   "codemirror_mode": {
    "name": "ipython",
    "version": 3
   },
   "file_extension": ".py",
   "mimetype": "text/x-python",
   "name": "python",
   "nbconvert_exporter": "python",
   "pygments_lexer": "ipython3",
   "version": "3.6.9"
  }
 },
 "nbformat": 4,
 "nbformat_minor": 4
}
